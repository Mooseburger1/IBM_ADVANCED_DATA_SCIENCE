{
    "nbformat_minor": 1, 
    "cells": [
        {
            "source": "# Assignment 3\n\nWelcome to Assignment 3. This will be even more fun. Now we will calculate statistical measures on the test data you have created.\n\nYOU ARE NOT ALLOWED TO USE ANY OTHER 3RD PARTY LIBRARIES LIKE PANDAS. PLEASE ONLY MODIFY CONTENT INSIDE THE FUNCTION SKELETONS\nPlease read why: https://www.coursera.org/learn/exploring-visualizing-iot-data/discussions/weeks/3/threads/skjCbNgeEeapeQ5W6suLkA\n. Just make sure you hit the play button on each cell from top to down. There are seven functions you have to implement. Please also make sure than on each change on a function you hit the play button again on the corresponding cell to make it available to the rest of this notebook.\nPlease also make sure to only implement the function bodies and DON'T add any additional code outside functions since this might confuse the autograder.\n\nSo the function below is used to make it easy for you to create a data frame from a cloudant data frame using the so called \"DataSource\" which is some sort of a plugin which allows ApacheSpark to use different data sources.\n", 
            "cell_type": "markdown", 
            "metadata": {}
        }, 
        {
            "source": "#Please don't modify this function\ndef readDataFrameFromCloudant(database):\n    cloudantdata=spark.read.load(database, \"org.apache.bahir.cloudant\")\n\n    cloudantdata.createOrReplaceTempView(\"washing\")\n    spark.sql(\"SELECT * from washing\").show()\n    return cloudantdata", 
            "cell_type": "code", 
            "metadata": {}, 
            "outputs": [], 
            "execution_count": 1
        }, 
        {
            "source": "All functions can be implemented using DataFrames, ApacheSparkSQL or RDDs. We are only interested in the result. You are given the reference to the data frame in the \"df\" parameter and in case you want to use SQL just use the \"spark\" parameter which is a reference to the global SparkSession object. Finally if you want to use RDDs just use \"df.rdd\" for obtaining a reference to the underlying RDD object. \n\nLet's start with the first function. Please calculate the minimal temperature for the test data set you have created. We've provided a little skeleton for you in case you want to use SQL. You can use this skeleton for all subsequent functions. Everything can be implemented using SQL only if you like.", 
            "cell_type": "markdown", 
            "metadata": {}
        }, 
        {
            "source": "def minTemperature(df,spark):\n    return float(spark.sql('SELECT MIN(temperature) AS mintemp FROM washing WHERE temperature IS NOT NULL').first().mintemp)", 
            "cell_type": "code", 
            "metadata": {}, 
            "outputs": [], 
            "execution_count": 130
        }, 
        {
            "source": "Please now do the same for the mean of the temperature", 
            "cell_type": "markdown", 
            "metadata": {}
        }, 
        {
            "source": "def meanTemperature(df,spark):\n    return float(spark.sql('SELECT MEAN(temperature) as meantemp FROM washing WHERE temperature IS NOT NULL').first().meantemp)", 
            "cell_type": "code", 
            "metadata": {}, 
            "outputs": [], 
            "execution_count": 129
        }, 
        {
            "source": "Please now do the same for the maximum of the temperature", 
            "cell_type": "markdown", 
            "metadata": {}
        }, 
        {
            "source": "def maxTemperature(df,spark):\n    return float(spark.sql('SELECT MAX(temperature) AS maxtemp FROM washing WHERE temperature IS NOT NULL').first().maxtemp)", 
            "cell_type": "code", 
            "metadata": {}, 
            "outputs": [], 
            "execution_count": 128
        }, 
        {
            "source": "Please now do the same for the standard deviation of the temperature", 
            "cell_type": "markdown", 
            "metadata": {}
        }, 
        {
            "source": "def sdTemperature(df,spark):\n    return float(spark.sql('SELECT temperature FROM washing WHERE temperature IS NOT NULL').describe().select('temperature').where('summary = \"stddev\"').first().temperature)", 
            "cell_type": "code", 
            "metadata": {}, 
            "outputs": [], 
            "execution_count": 127
        }, 
        {
            "source": "Please now do the same for the skew of the temperature. Since the SQL statement for this is a bit more complicated we've provided a skeleton for you. You have to insert custom code at four position in order to make the function work. Alternatively you can also remove everything and implement if on your own. Note that we are making use of two previously defined functions, so please make sure they are correct. Also note that we are making use of python's string formatting capabilitis where the results of the two function calls to \"meanTemperature\" and \"sdTemperature\" are inserted at the \"%s\" symbols in the SQL string.", 
            "cell_type": "markdown", 
            "metadata": {}
        }, 
        {
            "source": "def skewTemperature(df,spark):    \n    return spark.sql(\"\"\"\nSELECT \n    (\n        1/ COUNT(temperature)\n    ) *\n    SUM (\n        POWER(temperature - %s,3)/POWER(%s,3)\n    )\n \nas skewtemp from washing\n                    \"\"\" %(meanTemperature(df,spark),sdTemperature(df,spark))).first().skewtemp", 
            "cell_type": "code", 
            "metadata": {}, 
            "outputs": [], 
            "execution_count": 126
        }, 
        {
            "source": "Kurtosis is the 4th statistical moment, so if you are smart you can make use of the code for skew which is the 3rd statistical moment. Actually only two things are different.", 
            "cell_type": "markdown", 
            "metadata": {}
        }, 
        {
            "source": "def kurtosisTemperature(df,spark):    \n    return spark.sql(\"\"\"\nSELECT \n    (\n        1/ COUNT(temperature)\n    ) *\n    SUM (\n        POWER(temperature - %s,4)/POWER(%s,4)\n    )\n \nas kurtosistemp from washing\n                    \"\"\" %(meanTemperature(df,spark),sdTemperature(df,spark))).first().kurtosistemp", 
            "cell_type": "code", 
            "metadata": {}, 
            "outputs": [], 
            "execution_count": 125
        }, 
        {
            "source": "Just a hint. This can be solved easily using SQL as well, but as shown in the lecture also using RDDs.", 
            "cell_type": "markdown", 
            "metadata": {}
        }, 
        {
            "source": "def correlationTemperatureHardness(df,spark):\n    hardnessstdv = float(spark.sql('SELECT hardness FROM washing WHERE hardness IS NOT NULL').describe().where('summary = \"stddev\"').first().hardness)\n\n    hardnessmean = float(spark.sql('SELECT MEAN(hardness) as meanhard FROM washing WHERE hardness IS NOT NULL').first().meanhard)\n\n    cov = float(spark.sql('SELECT (1/COUNT(temperature)) * SUM(temperature - {}) * SUM(hardness - {}) as cov FROM washing'.format(meanTemperature(df,spark), hardnessmean)).first().cov)\n\n    return float(cov)/ (float(hardnessstdv) * float(sdTemperature(df,spark)))", 
            "cell_type": "code", 
            "metadata": {}, 
            "outputs": [], 
            "execution_count": 124
        }, 
        {
            "source": "### PLEASE DON'T REMOVE THIS BLOCK - THE FOLLOWING CODE IS NOT GRADED\n#axx\n### PLEASE DON'T REMOVE THIS BLOCK - THE FOLLOWING CODE IS NOT GRADED", 
            "cell_type": "markdown", 
            "metadata": {}
        }, 
        {
            "source": "Now it is time to connect to the cloudant database. Please have a look at the Video \"Overview of end-to-end scenario\" of Week 2 starting from 6:40 in order to learn how to obtain the credentials for the database. Please paste this credentials as strings into the below code\n\n### TODO Please provide your Cloudant credentials here", 
            "cell_type": "markdown", 
            "metadata": {}
        }, 
        {
            "source": "hostname = \"a5e87c2f-5325-4203-8451-4cd706836372-bluemix.cloudant.com\"\nuser = \"a5e87c2f-5325-4203-8451-4cd706836372-bluemix\"\npw = \"70ad69ef47f8064617b6c3c6e2774aa9f2f41e806b8be70e6ccba8d8575083a1\"\ndatabase = \"washing\" #as long as you didn't change this in the NodeRED flow the database name stays the same", 
            "cell_type": "code", 
            "metadata": {}, 
            "outputs": [], 
            "execution_count": 9
        }, 
        {
            "source": "spark = SparkSession\\\n    .builder\\\n    .appName(\"Cloudant Spark SQL Example in Python using temp tables\")\\\n    .config(\"cloudant.host\",hostname)\\\n    .config(\"cloudant.username\", user)\\\n    .config(\"cloudant.password\",pw)\\\n    .getOrCreate()\ncloudantdata=readDataFrameFromCloudant(database)", 
            "cell_type": "code", 
            "metadata": {}, 
            "outputs": [
                {
                    "output_type": "stream", 
                    "name": "stdout", 
                    "text": "+--------------------+--------------------+-----+--------+----------+---------+--------+-----+-----------+-------------+-------+\n|                 _id|                _rev|count|flowrate|fluidlevel|frequency|hardness|speed|temperature|           ts|voltage|\n+--------------------+--------------------+-----+--------+----------+---------+--------+-----+-----------+-------------+-------+\n|0a8f916eca8914be2...|1-6dc81970ce12faf...|    7|      11|acceptable|     null|      77| null|         93|1533491155093|   null|\n|0a8f916eca8914be2...|1-4d2b7411f1c318b...|   17|      11|acceptable|     null|      72| null|        100|1533491165121|   null|\n|0a8f916eca8914be2...|1-747fed360db110e...|    4|    null|      null|     null|    null| 1062|       null|1533491168088|   null|\n|0a8f916eca8914be2...|1-00ba40b50167df9...|   30|      11|acceptable|     null|      74| null|         95|1533491178143|   null|\n|0a8f916eca8914be2...|1-d79f8910f07cc11...|   12|    null|      null|       64|    null| null|       null|1533491184109|    231|\n|0a8f916eca8914be2...|1-0d9c4df118bf363...|   44|      11|acceptable|     null|      78| null|         97|1533491192156|   null|\n|0a8f916eca8914be2...|1-637fed98e354db8...|   11|    null|      null|     null|    null| 1070|       null|1533491203100|   null|\n|0a8f916eca8914be2...|1-ebb043f7eb0ee82...|   62|      11|acceptable|     null|      72| null|         85|1533491210177|   null|\n|0a8f916eca8914be2...|1-a266192be11fd48...|   69|      11|acceptable|     null|      74| null|         92|1533491217192|   null|\n|0a8f916eca8914be2...|1-9eed0755d7e48d9...|   75|      11|acceptable|     null|      76| null|        100|1533491223199|   null|\n|0a8f916eca8914be2...|1-8dd3b1706eca5a8...|   79|      11|acceptable|     null|      75| null|         80|1533491227209|   null|\n|0a8f916eca8914be2...|1-30db3ac00afca08...|   82|      11|acceptable|     null|      73| null|         94|1533491230212|   null|\n|0a8f916eca8914be2...|1-794515e5a38be30...|   89|      11|acceptable|     null|      79| null|         89|1533491237222|   null|\n|0a8f916eca8914be2...|1-8b714b8061f3cfa...|   96|      11|acceptable|     null|      70| null|         92|1533491244230|   null|\n|0a8f916eca8914be2...|1-306fe390ddacb9e...|  104|      11|acceptable|     null|      78| null|         80|1533491252240|   null|\n|0a8f916eca8914be2...|1-f20ebe58b6a4762...|   37|    null|      null|       60|    null| null|       null|1533491259153|    237|\n|0a8f916eca8914be2...|1-929899a22ab355f...|  116|      11|acceptable|     null|      73| null|         99|1533491264265|   null|\n|0a8f916eca8914be2...|1-512e64b4d0ada22...|  128|      11|acceptable|     null|     135| null|         93|1533491276292|   null|\n|0a8f916eca8914be2...|1-ef7e0681985712a...|  144|      11|acceptable|     null|      73| null|         85|1533491292323|   null|\n|0a8f916eca8914be2...|1-b8b51b2238f1927...|  151|      11|acceptable|     null|      71| null|         84|1533491299336|   null|\n+--------------------+--------------------+-----+--------+----------+---------+--------+-----+-----------+-------------+-------+\nonly showing top 20 rows\n\n"
                }
            ], 
            "execution_count": 10
        }, 
        {
            "source": "minTemperature(cloudantdata,spark)", 
            "cell_type": "code", 
            "metadata": {}, 
            "outputs": [
                {
                    "output_type": "execute_result", 
                    "data": {
                        "text/plain": "80"
                    }, 
                    "execution_count": 95, 
                    "metadata": {}
                }
            ], 
            "execution_count": 95
        }, 
        {
            "source": "meanTemperature(cloudantdata,spark)", 
            "cell_type": "code", 
            "metadata": {}, 
            "outputs": [
                {
                    "output_type": "execute_result", 
                    "data": {
                        "text/plain": "89.92877492877493"
                    }, 
                    "execution_count": 98, 
                    "metadata": {}
                }
            ], 
            "execution_count": 98
        }, 
        {
            "source": "maxTemperature(cloudantdata,spark)", 
            "cell_type": "code", 
            "metadata": {}, 
            "outputs": [
                {
                    "output_type": "execute_result", 
                    "data": {
                        "text/plain": "100"
                    }, 
                    "execution_count": 99, 
                    "metadata": {}
                }
            ], 
            "execution_count": 99
        }, 
        {
            "source": "sdTemperature(cloudantdata,spark)", 
            "cell_type": "code", 
            "metadata": {}, 
            "outputs": [
                {
                    "output_type": "execute_result", 
                    "data": {
                        "text/plain": "'6.187826614345154'"
                    }, 
                    "execution_count": 102, 
                    "metadata": {}
                }
            ], 
            "execution_count": 102
        }, 
        {
            "source": "skewTemperature(cloudantdata,spark)", 
            "cell_type": "code", 
            "metadata": {}, 
            "outputs": [
                {
                    "output_type": "execute_result", 
                    "data": {
                        "text/plain": "0.011912207442313251"
                    }, 
                    "execution_count": 104, 
                    "metadata": {}
                }
            ], 
            "execution_count": 104
        }, 
        {
            "source": "kurtosisTemperature(cloudantdata,spark)", 
            "cell_type": "code", 
            "metadata": {}, 
            "outputs": [
                {
                    "output_type": "execute_result", 
                    "data": {
                        "text/plain": "1.697819038279093"
                    }, 
                    "execution_count": 109, 
                    "metadata": {}
                }
            ], 
            "execution_count": 109
        }, 
        {
            "source": "correlationTemperatureHardness(cloudantdata,spark)", 
            "cell_type": "code", 
            "metadata": {}, 
            "outputs": [
                {
                    "output_type": "execute_result", 
                    "data": {
                        "text/plain": "-4.123006001618195e-30"
                    }, 
                    "execution_count": 123, 
                    "metadata": {}
                }
            ], 
            "execution_count": 123
        }, 
        {
            "source": "Congratulations, you are done, please download this notebook as python file using the export function and submit is to the gader using the filename \"assignment3.1.py\"", 
            "cell_type": "markdown", 
            "metadata": {}
        }
    ], 
    "metadata": {
        "kernelspec": {
            "display_name": "Python 3.5 with Spark 2.1", 
            "name": "python3-spark21", 
            "language": "python"
        }, 
        "language_info": {
            "mimetype": "text/x-python", 
            "nbconvert_exporter": "python", 
            "version": "3.5.4", 
            "name": "python", 
            "pygments_lexer": "ipython3", 
            "file_extension": ".py", 
            "codemirror_mode": {
                "version": 3, 
                "name": "ipython"
            }
        }
    }, 
    "nbformat": 4
}