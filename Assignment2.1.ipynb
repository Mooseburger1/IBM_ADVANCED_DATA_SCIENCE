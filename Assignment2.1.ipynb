{
    "nbformat_minor": 1, 
    "cells": [
        {
            "source": "### Assignment 2\nWelcome to Assignment 2. This will be fun. It is the first time you actually access external data from ApacheSpark. \n\nJust make sure you hit the play button on each cell from top to down. There are three functions you have to implement. Please also make sure than on each change on a function you hit the play button again on the corresponding cell to make it available to the rest of this notebook.\n\n##### Please also make sure to only implement the function bodies and DON'T add any additional code outside functions since this might confuse the autograder.", 
            "cell_type": "markdown", 
            "metadata": {}
        }, 
        {
            "source": "So the function below is used to make it easy for you to create a data frame from a cloudant data frame using the so called \"DataSource\" which is some sort of a plugin which allows ApacheSpark to use different data sources.", 
            "cell_type": "markdown", 
            "metadata": {}
        }, 
        {
            "source": "#Please don't modify this function\ndef readDataFrameFromCloudant(database):\n    cloudantdata=spark.read.load(database, \"org.apache.bahir.cloudant\")\n\n    cloudantdata.createOrReplaceTempView(\"washing\")\n    spark.sql(\"SELECT * from washing\").show()\n    return cloudantdata", 
            "cell_type": "code", 
            "metadata": {}, 
            "outputs": [], 
            "execution_count": 1
        }, 
        {
            "source": "This is the first function you have to implement. You are passed a dataframe object. We've also registered the dataframe in the ApacheSparkSQL catalog - so you can also issue queries against the \"washing\" table using \"spark.sql()\". Hint: To get an idea about the contents of the catalog you can use: spark.catalog.listTables().\nSo now it's time to implement your first function. You are free to use the dataframe API, SQL or RDD API. In case you want to use the RDD API just obtain the encapsulated RDD using \"df.rdd\". You can test the function by running one of the three last cells of this notebook, but please make sure you run the cells from top to down since some are dependant of each other...", 
            "cell_type": "markdown", 
            "metadata": {}
        }, 
        {
            "source": "def count(df,spark):\n    #TODO Please enter your code here\n    \n    ### SQL Query Version\n    '''df.createOrReplaceTempView('washing')\n    return spark.sql('SELECT COUNT(*) from washing').show()'''\n    \n    ### Dataframe versino\n    return df.count()", 
            "cell_type": "code", 
            "metadata": {}, 
            "outputs": [], 
            "execution_count": 19
        }, 
        {
            "source": "No it's time to implement the second function. Please return an integer containing the number of fields. The most easy way to get this is using the dataframe API. Hint: You might find the dataframe API documentation useful: http://spark.apache.org/docs/latest/api/python/pyspark.sql.html#pyspark.sql.DataFrame", 
            "cell_type": "markdown", 
            "metadata": {}
        }, 
        {
            "source": "def getNumberOfFields(df,spark):\n    #TODO Please enter your code here\n    return len(df.columns)", 
            "cell_type": "code", 
            "metadata": {}, 
            "outputs": [], 
            "execution_count": 29
        }, 
        {
            "source": "Finally, please implement a function which returns a (python) list of string values of the field names in this data frame. Hint: Just copy&past doesn't work because the auto-grader will create a random data frame for testing, so please use the data frame API as well. Again, this is the link to the documentation: http://spark.apache.org/docs/latest/api/python/pyspark.sql.html#pyspark.sql.DataFrame", 
            "cell_type": "markdown", 
            "metadata": {}
        }, 
        {
            "source": "def getFieldNames(df,spark):\n    #TODO Please enter your code here\n    return list(df.columns)", 
            "cell_type": "code", 
            "metadata": {}, 
            "outputs": [], 
            "execution_count": 31
        }, 
        {
            "source": "### PLEASE DON'T REMOVE THIS BLOCK - THE FOLLOWING CODE IS NOT GRADED\n#axx\n### PLEASE DON'T REMOVE THIS BLOCK - THE FOLLOWING CODE IS NOT GRADED\nSo after this block you can basically do what you like since the auto-grader is not considering this part of the notebook", 
            "cell_type": "markdown", 
            "metadata": {}
        }, 
        {
            "source": "Now it is time to connect to the cloudant database. Please have a look at the Video \"Overview of end-to-end scenario\" of Week 2 starting from 6:40 in order to learn how to obtain the credentials for the database. Please paste this credentials as strings into the below code\n\n### TODO Please provide your Cloudant credentials here", 
            "cell_type": "markdown", 
            "metadata": {}
        }, 
        {
            "source": "hostname = \"a5e87c2f-5325-4203-8451-4cd706836372-bluemix.cloudant.com\"\nuser = \"a5e87c2f-5325-4203-8451-4cd706836372-bluemix\"\npw = \"70ad69ef47f8064617b6c3c6e2774aa9f2f41e806b8be70e6ccba8d8575083a1\"\ndatabase = \"washing\" #as long as you didn't change this in the NodeRED flow the database name stays the same", 
            "cell_type": "code", 
            "metadata": {}, 
            "outputs": [], 
            "execution_count": 2
        }, 
        {
            "source": "spark = SparkSession\\\n    .builder\\\n    .appName(\"Cloudant Spark SQL Example in Python using temp tables\")\\\n    .config(\"cloudant.host\",hostname)\\\n    .config(\"cloudant.username\", user)\\\n    .config(\"cloudant.password\",pw)\\\n    .getOrCreate()\ncloudantdata=readDataFrameFromCloudant(database)", 
            "cell_type": "code", 
            "metadata": {}, 
            "outputs": [
                {
                    "output_type": "stream", 
                    "name": "stdout", 
                    "text": "+--------------------+--------------------+-----+--------+----------+---------+--------+-----+-----------+-------------+-------+\n|                 _id|                _rev|count|flowrate|fluidlevel|frequency|hardness|speed|temperature|           ts|voltage|\n+--------------------+--------------------+-----+--------+----------+---------+--------+-----+-----------+-------------+-------+\n|0a8f916eca8914be2...|1-6dc81970ce12faf...|    7|      11|acceptable|     null|      77| null|         93|1533491155093|   null|\n|0a8f916eca8914be2...|1-4d2b7411f1c318b...|   17|      11|acceptable|     null|      72| null|        100|1533491165121|   null|\n|0a8f916eca8914be2...|1-747fed360db110e...|    4|    null|      null|     null|    null| 1062|       null|1533491168088|   null|\n|0a8f916eca8914be2...|1-00ba40b50167df9...|   30|      11|acceptable|     null|      74| null|         95|1533491178143|   null|\n|0a8f916eca8914be2...|1-d79f8910f07cc11...|   12|    null|      null|       64|    null| null|       null|1533491184109|    231|\n|0a8f916eca8914be2...|1-0d9c4df118bf363...|   44|      11|acceptable|     null|      78| null|         97|1533491192156|   null|\n|0a8f916eca8914be2...|1-637fed98e354db8...|   11|    null|      null|     null|    null| 1070|       null|1533491203100|   null|\n|0a8f916eca8914be2...|1-ebb043f7eb0ee82...|   62|      11|acceptable|     null|      72| null|         85|1533491210177|   null|\n|0a8f916eca8914be2...|1-a266192be11fd48...|   69|      11|acceptable|     null|      74| null|         92|1533491217192|   null|\n|0a8f916eca8914be2...|1-9eed0755d7e48d9...|   75|      11|acceptable|     null|      76| null|        100|1533491223199|   null|\n|0a8f916eca8914be2...|1-8dd3b1706eca5a8...|   79|      11|acceptable|     null|      75| null|         80|1533491227209|   null|\n|0a8f916eca8914be2...|1-30db3ac00afca08...|   82|      11|acceptable|     null|      73| null|         94|1533491230212|   null|\n|0a8f916eca8914be2...|1-794515e5a38be30...|   89|      11|acceptable|     null|      79| null|         89|1533491237222|   null|\n|0a8f916eca8914be2...|1-8b714b8061f3cfa...|   96|      11|acceptable|     null|      70| null|         92|1533491244230|   null|\n|0a8f916eca8914be2...|1-306fe390ddacb9e...|  104|      11|acceptable|     null|      78| null|         80|1533491252240|   null|\n|0a8f916eca8914be2...|1-f20ebe58b6a4762...|   37|    null|      null|       60|    null| null|       null|1533491259153|    237|\n|0a8f916eca8914be2...|1-929899a22ab355f...|  116|      11|acceptable|     null|      73| null|         99|1533491264265|   null|\n|0a8f916eca8914be2...|1-512e64b4d0ada22...|  128|      11|acceptable|     null|     135| null|         93|1533491276292|   null|\n|0a8f916eca8914be2...|1-ef7e0681985712a...|  144|      11|acceptable|     null|      73| null|         85|1533491292323|   null|\n|0a8f916eca8914be2...|1-b8b51b2238f1927...|  151|      11|acceptable|     null|      71| null|         84|1533491299336|   null|\n+--------------------+--------------------+-----+--------+----------+---------+--------+-----+-----------+-------------+-------+\nonly showing top 20 rows\n\n"
                }
            ], 
            "execution_count": 3
        }, 
        {
            "source": "The following cell can be used to test your count function", 
            "cell_type": "markdown", 
            "metadata": {}
        }, 
        {
            "source": "count(cloudantdata,spark)", 
            "cell_type": "code", 
            "metadata": {}, 
            "outputs": [
                {
                    "output_type": "execute_result", 
                    "data": {
                        "text/plain": "538"
                    }, 
                    "execution_count": 20, 
                    "metadata": {}
                }
            ], 
            "execution_count": 20
        }, 
        {
            "source": "The following cell can be used to test your getNumberOfFields function", 
            "cell_type": "markdown", 
            "metadata": {}
        }, 
        {
            "source": "getNumberOfFields(cloudantdata,spark)", 
            "cell_type": "code", 
            "metadata": {}, 
            "outputs": [
                {
                    "output_type": "execute_result", 
                    "data": {
                        "text/plain": "11"
                    }, 
                    "execution_count": 30, 
                    "metadata": {}
                }
            ], 
            "execution_count": 30
        }, 
        {
            "source": "The following cell can be used to test your getFieldNames function", 
            "cell_type": "markdown", 
            "metadata": {}
        }, 
        {
            "source": "getFieldNames(cloudantdata,spark)", 
            "cell_type": "code", 
            "metadata": {}, 
            "outputs": [
                {
                    "output_type": "execute_result", 
                    "data": {
                        "text/plain": "['_id',\n '_rev',\n 'count',\n 'flowrate',\n 'fluidlevel',\n 'frequency',\n 'hardness',\n 'speed',\n 'temperature',\n 'ts',\n 'voltage']"
                    }, 
                    "execution_count": 32, 
                    "metadata": {}
                }
            ], 
            "execution_count": 32
        }, 
        {
            "source": "Congratulations, you are done. So please export this notebook as python script using the \"File->Download as->Python (.py)\" option in the menue of this notebook. This file should be named \"assignment2.1.py\" and uploaded to the autograder of week2.", 
            "cell_type": "markdown", 
            "metadata": {}
        }
    ], 
    "metadata": {
        "kernelspec": {
            "display_name": "Python 3.5 with Spark 2.1", 
            "name": "python3-spark21", 
            "language": "python"
        }, 
        "language_info": {
            "mimetype": "text/x-python", 
            "nbconvert_exporter": "python", 
            "version": "3.5.4", 
            "name": "python", 
            "pygments_lexer": "ipython3", 
            "file_extension": ".py", 
            "codemirror_mode": {
                "version": 3, 
                "name": "ipython"
            }
        }
    }, 
    "nbformat": 4
}